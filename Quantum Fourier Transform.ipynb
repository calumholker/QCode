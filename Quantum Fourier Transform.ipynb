{
 "metadata": {
  "language_info": {
   "codemirror_mode": {
    "name": "ipython",
    "version": 3
   },
   "file_extension": ".py",
   "mimetype": "text/x-python",
   "name": "python",
   "nbconvert_exporter": "python",
   "pygments_lexer": "ipython3",
   "version": "3.8.5-final"
  },
  "orig_nbformat": 2,
  "kernelspec": {
   "name": "Python 3.8.5 64-bit ('Qiskit': conda)",
   "display_name": "Python 3.8.5 64-bit ('Qiskit': conda)",
   "metadata": {
    "interpreter": {
     "hash": "ea9d10c95bf6fe1c5ff7f57e7c6ac35efd0871093180d63865e0995ea5c29e12"
    }
   }
  }
 },
 "nbformat": 4,
 "nbformat_minor": 2,
 "cells": [
  {
   "cell_type": "code",
   "execution_count": 2,
   "metadata": {},
   "outputs": [],
   "source": [
    "import numpy as np\n",
    "from qiskit.circuit.library import QFT\n",
    "from qiskit.quantum_info import Statevector\n",
    "from qiskit import QuantumCircuit\n",
    "from qiskit.tools.jupyter import *\n",
    "from qiskit.visualization import plot_bloch_multivector\n",
    "import warnings\n",
    "warnings.filterwarnings('ignore')"
   ]
  },
  {
   "cell_type": "code",
   "execution_count": 3,
   "metadata": {},
   "outputs": [],
   "source": [
    "def my_QFT(n):\n",
    "\n",
    "    QFT_circuit = QuantumCircuit(n)\n",
    "\n",
    "    for q in range(n):\n",
    "        QFT_circuit.h(q)\n",
    "        for oq in range(q+1, n):\n",
    "            QFT_circuit.cu1(np.pi/(2**(oq-q)), oq, q)\n",
    "    \n",
    "    return QFT_circuit"
   ]
  },
  {
   "cell_type": "code",
   "execution_count": 4,
   "metadata": {},
   "outputs": [
    {
     "output_type": "display_data",
     "data": {
      "text/plain": "     ┌───┐                                                         \nq_0: ┤ H ├─■──────■───────────■────────────────────────────────────\n     └───┘ │pi/2  │     ┌───┐ │                                    \nq_1: ──────■──────┼─────┤ H ├─┼──────■──────■──────────────────────\n                  │pi/4 └───┘ │      │pi/2  │     ┌───┐            \nq_2: ─────────────■───────────┼──────■──────┼─────┤ H ├─■──────────\n                              │pi/8         │pi/4 └───┘ │pi/2 ┌───┐\nq_3: ─────────────────────────■─────────────■───────────■─────┤ H ├\n                                                              └───┘",
      "text/html": "<pre style=\"word-wrap: normal;white-space: pre;background: #fff0;line-height: 1.1;font-family: &quot;Courier New&quot;,Courier,monospace\">     ┌───┐                                                         \nq_0: ┤ H ├─■──────■───────────■────────────────────────────────────\n     └───┘ │pi/2  │     ┌───┐ │                                    \nq_1: ──────■──────┼─────┤ H ├─┼──────■──────■──────────────────────\n                  │pi/4 └───┘ │      │pi/2  │     ┌───┐            \nq_2: ─────────────■───────────┼──────■──────┼─────┤ H ├─■──────────\n                              │pi/8         │pi/4 └───┘ │pi/2 ┌───┐\nq_3: ─────────────────────────■─────────────■───────────■─────┤ H ├\n                                                              └───┘</pre>"
     },
     "metadata": {}
    },
    {
     "output_type": "display_data",
     "data": {
      "text/plain": "     ┌───┐                                                            \nq_0: ┤ H ├─■──────■───────────■─────────────────────────────────────X─\n     └───┘ │pi/2  │     ┌───┐ │                                     │ \nq_1: ──────■──────┼─────┤ H ├─┼──────■──────■───────────────────X───┼─\n                  │pi/4 └───┘ │      │pi/2  │     ┌───┐         │   │ \nq_2: ─────────────■───────────┼──────■──────┼─────┤ H ├─■───────X───┼─\n                              │pi/8         │pi/4 └───┘ │pi/2 ┌───┐ │ \nq_3: ─────────────────────────■─────────────■───────────■─────┤ H ├─X─\n                                                              └───┘   ",
      "text/html": "<pre style=\"word-wrap: normal;white-space: pre;background: #fff0;line-height: 1.1;font-family: &quot;Courier New&quot;,Courier,monospace\">     ┌───┐                                                            \nq_0: ┤ H ├─■──────■───────────■─────────────────────────────────────X─\n     └───┘ │pi/2  │     ┌───┐ │                                     │ \nq_1: ──────■──────┼─────┤ H ├─┼──────■──────■───────────────────X───┼─\n                  │pi/4 └───┘ │      │pi/2  │     ┌───┐         │   │ \nq_2: ─────────────■───────────┼──────■──────┼─────┤ H ├─■───────X───┼─\n                              │pi/8         │pi/4 └───┘ │pi/2 ┌───┐ │ \nq_3: ─────────────────────────■─────────────■───────────■─────┤ H ├─X─\n                                                              └───┘   </pre>"
     },
     "metadata": {}
    }
   ],
   "source": [
    "display(my_QFT(4).draw())\n",
    "display(QFT(4).draw())"
   ]
  }
 ]
}